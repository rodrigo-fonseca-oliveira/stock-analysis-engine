{
 "cells": [
  {
   "cell_type": "markdown",
   "metadata": {},
   "source": [
    "## Train a Deep Neural Network For Predicting a Stock's Closing Price\n",
    "\n",
    "This notebook is a guide on training a deep neural network (dnn) to predict a stock's closing price from an algorithm's trading history. The [Analysis Engine](https://github.com/jay-johnson/stock-analysis-engine) makes it easy to roll custom AI training datasets from minute-by-minute, intraday algorithm backtests. Each algorithm backtest automatically publishes its trading history to S3 (Minio or AWS). These trading histories are compressed [pandas DataFrames](http://pandas.pydata.org/pandas-docs/stable/reference/frame.html) where the algorithm's indicator decisions are stored as columns withnin this DataFrame. These columns become training features for a dnn to learn (hopefully)."
   ]
  },
  {
   "cell_type": "markdown",
   "metadata": {},
   "source": [
    "### How it works\n",
    "\n",
    "#### Before Running the Notebook\n",
    "\n",
    "1. Run through [Getting Started with the Analysis Engine](https://github.com/AlgoTraders/stock-analysis-engine#getting-started)\n",
    "\n",
    "1. [Publish a Trading History from an Algorithm's Backtest to S3](https://github.com/AlgoTraders/stock-analysis-engine#run-a-local-backtest-and-publish-algorithm-trading-history-to-s3)\n",
    "\n",
    "#### Getting Started\n",
    "\n",
    "1. Load the Runtime\n",
    "\n",
    "1. Set Algorithm's S3 Bucket and Key Values as needed\n",
    "\n",
    "1. Load the Trading History Dataset from S3\n",
    "\n",
    "1. Prepare Training Dataset from Trading History\n",
    "   \n",
    "   (**This version is only using High + Low + Open without scaler normalization - stay tuned!**)\n",
    "\n",
    "1. Create the Test and Train Dataset Splits\n",
    "\n",
    "1. Build and Compile a KerasRegressor using Keras + Tensorflow + Scikit-learn\n",
    "\n",
    "1. Fit the DNN (train)\n",
    "\n",
    "1. Determine Error (MSE + MAE + MAPE + CP)\n",
    "\n",
    "1. Run DNN Predictions\n",
    "\n",
    "1. Plot Historical Close vs DNN's Predicted Close\n",
    "\n",
    "The current notebook uses Keras and Tensorflow to build a KerasRegressor.\n",
    "\n",
    "This regressor is created using a custom layer configuration (json dictionary) that can support Dense and Dropout Keras layer types. After creation it will    "
   ]
  },
  {
   "cell_type": "markdown",
   "metadata": {},
   "source": [
    "## Load Runtime"
   ]
  },
  {
   "cell_type": "code",
   "execution_count": 1,
   "metadata": {},
   "outputs": [
    {
     "name": "stdout",
     "output_type": "stream",
     "text": [
      "starting - 2019-01-27 02:22:00.785266\n"
     ]
    },
    {
     "name": "stderr",
     "output_type": "stream",
     "text": [
      "Using TensorFlow backend.\n"
     ]
    },
    {
     "name": "stdout",
     "output_type": "stream",
     "text": [
      "imports done - 2019-01-27 02:22:03.685627\n",
      "ready - 2019-01-27 02:22:03.688396\n"
     ]
    }
   ],
   "source": [
    "import datetime\n",
    "print(f'starting - {datetime.datetime.now()}')\n",
    "\n",
    "import copy\n",
    "import numpy as np\n",
    "import numpy.random as np_random\n",
    "import pandas as pd\n",
    "import pandas.api.types as pandas_types\n",
    "import sklearn.model_selection as tt_split\n",
    "import keras.wrappers.scikit_learn as keras_scikit\n",
    "import tensorflow as tf\n",
    "import analysis_engine.consts as ae_consts\n",
    "import analysis_engine.load_history_dataset as load_history\n",
    "import analysis_engine.ai.build_regression_dnn as build_dnn\n",
    "import analysis_engine.plot_trading_history as plot_trading_history\n",
    "\n",
    "print(f'imports done - {datetime.datetime.now()}')\n",
    "\n",
    "# ensure reproducible results tip from:\n",
    "# https://machinelearningmastery.com/reproducible-results-neural-networks-keras/\n",
    "np_random.seed(1)\n",
    "\n",
    "print(f'ready - {datetime.datetime.now()}')"
   ]
  },
  {
   "cell_type": "markdown",
   "metadata": {},
   "source": [
    "## Set Algorithm's S3 Bucket and Key Values"
   ]
  },
  {
   "cell_type": "code",
   "execution_count": 2,
   "metadata": {},
   "outputs": [],
   "source": [
    "# change these to your values:\n",
    "s3_bucket = (\n",
    "    f'algohistory')\n",
    "s3_key = (\n",
    "    f'algo_training_SPY.json')\n",
    "\n",
    "s3_access_key = ae_consts.S3_ACCESS_KEY\n",
    "s3_secret_key = ae_consts.S3_SECRET_KEY\n",
    "s3_region_name = ae_consts.S3_REGION_NAME\n",
    "s3_address = ae_consts.S3_ADDRESS\n",
    "s3_secure = ae_consts.S3_SECURE\n",
    "compress = True"
   ]
  },
  {
   "cell_type": "markdown",
   "metadata": {},
   "source": [
    "## Load the Trading History Dataset from S3"
   ]
  },
  {
   "cell_type": "code",
   "execution_count": 3,
   "metadata": {},
   "outputs": [
    {
     "name": "stdout",
     "output_type": "stream",
     "text": [
      "loaded trading history from s3://algohistory/algo_training_SPY.json\n"
     ]
    }
   ],
   "source": [
    "load_res = load_history.load_history_dataset(\n",
    "    s3_key=s3_key,\n",
    "    s3_address=s3_address,\n",
    "    s3_bucket=s3_bucket,\n",
    "    s3_access_key=s3_access_key,\n",
    "    s3_secret_key=s3_secret_key,\n",
    "    s3_region_name=s3_region_name,\n",
    "    s3_secure=s3_secure,\n",
    "    compress=compress)\n",
    "\n",
    "ticker = None\n",
    "if 'tickers' not in load_res:\n",
    "    print(\n",
    "        f'unable to load trading history from s3://{s3_address}/{s3_bucket}/{s3_key}')\n",
    "else:\n",
    "    tickers = load_res.get(\n",
    "        'tickers',\n",
    "        [\n",
    "            'SPY',\n",
    "        ])\n",
    "    ticker = tickers[0]\n",
    "    print(\n",
    "        f'loaded trading history from s3://{s3_bucket}/{s3_key}')"
   ]
  },
  {
   "cell_type": "markdown",
   "metadata": {},
   "source": [
    "## Prepare Training Dataset from Trading History"
   ]
  },
  {
   "cell_type": "code",
   "execution_count": 4,
   "metadata": {},
   "outputs": [
    {
     "name": "stdout",
     "output_type": "stream",
     "text": [
      "prepared training data from history algohistory@algo_training_SPY.json rows=395 dates: 2019-01-18 16:00:00 to 2019-01-25 15:59:00\n"
     ]
    }
   ],
   "source": [
    "df = load_res[ticker]\n",
    "df['date'] = pd.to_datetime(\n",
    "    df['date'])\n",
    "df['minute'] = pd.to_datetime(\n",
    "    df['minute'])\n",
    "ticker = df['ticker'].iloc[0]\n",
    "first_date = df['date'].iloc[0]\n",
    "end_date = df['date'].iloc[-1]\n",
    "\n",
    "if 'minute' in df:\n",
    "    found_valid_minute = df['minute'].iloc[0]\n",
    "    if found_valid_minute:\n",
    "        first_date = df['minute'].iloc[0]\n",
    "        end_date = df['minute'].iloc[-1]\n",
    "\n",
    "num_rows = len(df.index)\n",
    "\n",
    "print(\n",
    "    f'prepared training data from history {s3_bucket}@{s3_key} '\n",
    "    f'rows={num_rows} '\n",
    "    f'dates: {first_date} to {end_date}')\n",
    "\n",
    "\"\"\"\n",
    "for scaler-normalized datasets this will\n",
    "compile numeric columns and ignore string/non-numeric\n",
    "columns as training and test feature columns\n",
    "\"\"\"\n",
    "predict_feature = 'close'\n",
    "use_all_features = False \n",
    "all_features = []\n",
    "train_features = []\n",
    "if use_all_features:\n",
    "    for c in df.columns.values:\n",
    "        if pandas.api.types.is_numeric_dtype(df[c]):\n",
    "            if c != predict_feature:\n",
    "                train_features.append(c)\n",
    "            all_features.append(c)\n",
    "else:\n",
    "    # easier to debug if there's less features to train\n",
    "    train_features = [\n",
    "        'high',\n",
    "        'low',\n",
    "        'open'\n",
    "    ]\n",
    "    all_features = [\n",
    "        'close'\n",
    "    ] + train_features\n",
    "\n",
    "num_features = len(train_features)"
   ]
  },
  {
   "cell_type": "markdown",
   "metadata": {},
   "source": [
    "### Create Deep Neural Network Config"
   ]
  },
  {
   "cell_type": "code",
   "execution_count": 5,
   "metadata": {},
   "outputs": [],
   "source": [
    "dnn_config = {\n",
    "    'layers': [\n",
    "        {\n",
    "            'num_neurons': 150,\n",
    "            'init': 'uniform',\n",
    "            'activation': 'relu'\n",
    "        },\n",
    "        {\n",
    "            'num_neurons': 100,\n",
    "            'init': 'uniform',\n",
    "            'activation': 'relu'\n",
    "        },\n",
    "        {\n",
    "            'num_neurons': 50,\n",
    "            'init': 'uniform',\n",
    "            'activation': 'relu'\n",
    "        },\n",
    "        {\n",
    "            'num_neurons': 1,\n",
    "            'init': 'uniform',\n",
    "            'activation': 'relu'\n",
    "        }\n",
    "    ]\n",
    "}"
   ]
  },
  {
   "cell_type": "markdown",
   "metadata": {},
   "source": [
    "### Create Keras Compile Config"
   ]
  },
  {
   "cell_type": "code",
   "execution_count": 6,
   "metadata": {},
   "outputs": [],
   "source": [
    "compile_config = {\n",
    "    'loss': 'mse',\n",
    "    'optimizer': 'adam',\n",
    "    'metrics': [\n",
    "        'accuracy',\n",
    "        'mse',\n",
    "        'mae',\n",
    "        'mape',\n",
    "        'cosine'\n",
    "    ]\n",
    "}"
   ]
  },
  {
   "cell_type": "markdown",
   "metadata": {},
   "source": [
    "### Set Prediction Feature"
   ]
  },
  {
   "cell_type": "code",
   "execution_count": 7,
   "metadata": {},
   "outputs": [],
   "source": [
    "predict_feature = 'close'"
   ]
  },
  {
   "cell_type": "markdown",
   "metadata": {},
   "source": [
    "### Build Train and Test DataFrames"
   ]
  },
  {
   "cell_type": "code",
   "execution_count": 8,
   "metadata": {},
   "outputs": [
    {
     "name": "stdout",
     "output_type": "stream",
     "text": [
      "building train and test dfs\n"
     ]
    }
   ],
   "source": [
    "print(\n",
    "    f'building train and test dfs')\n",
    "\n",
    "converted_df = df[all_features].dropna().astype(\n",
    "    'float32')\n",
    "train_df = converted_df[train_features]\n",
    "test_df = converted_df[[predict_feature]]"
   ]
  },
  {
   "cell_type": "markdown",
   "metadata": {},
   "source": [
    "## Build and Compile a KerasRegressor using Keras + Tensorflow + Scikit-learn"
   ]
  },
  {
   "cell_type": "code",
   "execution_count": 9,
   "metadata": {},
   "outputs": [],
   "source": [
    "use_epochs = 20\n",
    "use_batch_size = 10\n",
    "use_test_size = 0.1\n",
    "use_random_state = 1\n",
    "use_seed = 7  # change this to random in prod\n",
    "use_shuffle = False\n",
    "model_verbose = True\n",
    "fit_verbose = True\n",
    "\n",
    "def set_model():\n",
    "    return build_dnn.build_regression_dnn(\n",
    "        num_features=num_features,\n",
    "        compile_config=compile_config,\n",
    "        model_config=dnn_config)\n",
    "\n",
    "estimator = keras_scikit.KerasRegressor(\n",
    "    build_fn=set_model,\n",
    "    epochs=use_epochs,\n",
    "    batch_size=use_batch_size,\n",
    "    verbose=model_verbose)"
   ]
  },
  {
   "cell_type": "markdown",
   "metadata": {},
   "source": [
    "## Create the Test and Train Dataset Splits"
   ]
  },
  {
   "cell_type": "code",
   "execution_count": 10,
   "metadata": {},
   "outputs": [
    {
     "name": "stdout",
     "output_type": "stream",
     "text": [
      "split breakdown - x_train=354 x_test=40 y_train=354 y_test=40\n"
     ]
    }
   ],
   "source": [
    "(x_train,\n",
    " x_test,\n",
    " y_train,\n",
    " y_test) = tt_split.train_test_split(\n",
    "     train_df,\n",
    "     test_df,\n",
    "     test_size=use_test_size,\n",
    "     random_state=use_random_state)\n",
    "\n",
    "print(\n",
    "    f'split breakdown - '\n",
    "    f'x_train={len(x_train)} '\n",
    "    f'x_test={len(x_test)} '\n",
    "    f'y_train={len(y_train)} '\n",
    "    f'y_test={len(y_test)}')"
   ]
  },
  {
   "cell_type": "markdown",
   "metadata": {},
   "source": [
    "## Fit the DNN (train)"
   ]
  },
  {
   "cell_type": "code",
   "execution_count": 11,
   "metadata": {},
   "outputs": [
    {
     "name": "stdout",
     "output_type": "stream",
     "text": [
      "Train on 354 samples, validate on 354 samples\n",
      "Epoch 1/20\n",
      "354/354 [==============================] - ETA: 10s - loss: 70804.8281 - acc: 0.0000e+00 - mean_squared_error: 70804.8281 - mean_absolute_error: 266.0917 - mean_absolute_percentage_error: 99.9638 - cosine_proximity: -1.000 - ETA: 0s - loss: 67224.0867 - acc: 0.0050 - mean_squared_error: 67224.0867 - mean_absolute_error: 258.5610 - mean_absolute_percentage_error: 89638.2817 - cosine_proximity: -0.9950  - 0s 1ms/step - loss: 54972.0017 - acc: 0.0113 - mean_squared_error: 54972.0017 - mean_absolute_error: 229.6648 - mean_absolute_percentage_error: 1336357.7580 - cosine_proximity: -0.9887 - val_loss: 8709.5013 - val_acc: 0.0113 - val_mean_squared_error: 8709.5013 - val_mean_absolute_error: 92.7989 - val_mean_absolute_percentage_error: 3012164.1780 - val_cosine_proximity: -0.9887\n",
      "Epoch 2/20\n",
      "354/354 [==============================] - ETA: 0s - loss: 8819.7578 - acc: 0.0000e+00 - mean_squared_error: 8819.7578 - mean_absolute_error: 93.9135 - mean_absolute_percentage_error: 35.2809 - cosine_proximity: -1.000 - ETA: 0s - loss: 2516.8224 - acc: 0.0045 - mean_squared_error: 2516.8224 - mean_absolute_error: 42.5028 - mean_absolute_percentage_error: 2200508.1210 - cosine_proximity: -0.99 - 0s 347us/step - loss: 1807.9665 - acc: 0.0113 - mean_squared_error: 1807.9665 - mean_absolute_error: 35.3929 - mean_absolute_percentage_error: 4490692.0310 - cosine_proximity: -0.9887 - val_loss: 0.3534 - val_acc: 0.0113 - val_mean_squared_error: 0.3534 - val_mean_absolute_error: 0.5922 - val_mean_absolute_percentage_error: 4521944.6048 - val_cosine_proximity: -0.9887\n",
      "Epoch 3/20\n",
      "354/354 [==============================] - ETA: 0s - loss: 0.3671 - acc: 0.0000e+00 - mean_squared_error: 0.3671 - mean_absolute_error: 0.6048 - mean_absolute_percentage_error: 0.2272 - cosine_proximity: -1.000 - ETA: 0s - loss: 79.6318 - acc: 0.0053 - mean_squared_error: 79.6318 - mean_absolute_error: 7.5557 - mean_absolute_percentage_error: 2170927.2957 - cosine_proximity: -0.994 - 0s 375us/step - loss: 51.0748 - acc: 0.0113 - mean_squared_error: 51.0748 - mean_absolute_error: 5.7386 - mean_absolute_percentage_error: 4560838.7139 - cosine_proximity: -0.9887 - val_loss: 9.9712 - val_acc: 0.0113 - val_mean_squared_error: 9.9712 - val_mean_absolute_error: 3.1438 - val_mean_absolute_percentage_error: 4568846.7083 - val_cosine_proximity: -0.9887\n",
      "Epoch 4/20\n",
      "354/354 [==============================] - ETA: 0s - loss: 10.1601 - acc: 0.0000e+00 - mean_squared_error: 10.1601 - mean_absolute_error: 3.1873 - mean_absolute_percentage_error: 1.1974 - cosine_proximity: -1.000 - ETA: 0s - loss: 2.1394 - acc: 0.0208 - mean_squared_error: 2.1394 - mean_absolute_error: 1.1974 - mean_absolute_percentage_error: 1661217.7644 - cosine_proximity: -0.995 - 0s 321us/step - loss: 1.5569 - acc: 0.0226 - mean_squared_error: 1.5569 - mean_absolute_error: 0.9733 - mean_absolute_percentage_error: 4523617.7400 - cosine_proximity: -0.9887 - val_loss: 0.1025 - val_acc: 0.0311 - val_mean_squared_error: 0.1025 - val_mean_absolute_error: 0.3166 - val_mean_absolute_percentage_error: 4518935.6986 - val_cosine_proximity: -0.9887\n",
      "Epoch 5/20\n",
      "354/354 [==============================] - ETA: 0s - loss: 0.0949 - acc: 0.1000 - mean_squared_error: 0.0949 - mean_absolute_error: 0.3059 - mean_absolute_percentage_error: 0.1149 - cosine_proximity: -1.000 - ETA: 0s - loss: 0.0656 - acc: 0.0286 - mean_squared_error: 0.0656 - mean_absolute_error: 0.2229 - mean_absolute_percentage_error: 1906362.7496 - cosine_proximity: -0.995 - 0s 363us/step - loss: 0.0439 - acc: 0.0311 - mean_squared_error: 0.0439 - mean_absolute_error: 0.1678 - mean_absolute_percentage_error: 4522297.1210 - cosine_proximity: -0.9887 - val_loss: 0.0049 - val_acc: 0.0311 - val_mean_squared_error: 0.0049 - val_mean_absolute_error: 0.0472 - val_mean_absolute_percentage_error: 4523411.5398 - val_cosine_proximity: -0.9887\n",
      "Epoch 6/20\n",
      "354/354 [==============================] - ETA: 0s - loss: 0.0029 - acc: 0.1000 - mean_squared_error: 0.0029 - mean_absolute_error: 0.0480 - mean_absolute_percentage_error: 0.0181 - cosine_proximity: -1.000 - ETA: 0s - loss: 0.0048 - acc: 0.0286 - mean_squared_error: 0.0048 - mean_absolute_error: 0.0503 - mean_absolute_percentage_error: 1906094.1132 - cosine_proximity: -0.995 - 0s 344us/step - loss: 0.0050 - acc: 0.0311 - mean_squared_error: 0.0050 - mean_absolute_error: 0.0463 - mean_absolute_percentage_error: 4522717.6416 - cosine_proximity: -0.9887 - val_loss: 0.0041 - val_acc: 0.0311 - val_mean_squared_error: 0.0041 - val_mean_absolute_error: 0.0391 - val_mean_absolute_percentage_error: 4522354.8140 - val_cosine_proximity: -0.9887\n",
      "Epoch 7/20\n",
      "354/354 [==============================] - ETA: 0s - loss: 0.0013 - acc: 0.1000 - mean_squared_error: 0.0013 - mean_absolute_error: 0.0268 - mean_absolute_percentage_error: 0.0101 - cosine_proximity: -1.000 - ETA: 0s - loss: 0.0031 - acc: 0.0348 - mean_squared_error: 0.0031 - mean_absolute_error: 0.0371 - mean_absolute_percentage_error: 1740120.5349 - cosine_proximity: -0.995 - 0s 362us/step - loss: 0.0041 - acc: 0.0311 - mean_squared_error: 0.0041 - mean_absolute_error: 0.0390 - mean_absolute_percentage_error: 4522012.4411 - cosine_proximity: -0.9887 - val_loss: 0.0040 - val_acc: 0.0311 - val_mean_squared_error: 0.0040 - val_mean_absolute_error: 0.0388 - val_mean_absolute_percentage_error: 4521910.5201 - val_cosine_proximity: -0.9887\n",
      "Epoch 8/20\n",
      "354/354 [==============================] - ETA: 0s - loss: 0.0015 - acc: 0.1000 - mean_squared_error: 0.0015 - mean_absolute_error: 0.0308 - mean_absolute_percentage_error: 0.0116 - cosine_proximity: -1.000 - ETA: 0s - loss: 0.0031 - acc: 0.0348 - mean_squared_error: 0.0031 - mean_absolute_error: 0.0376 - mean_absolute_percentage_error: 1739862.1003 - cosine_proximity: -0.995 - 0s 357us/step - loss: 0.0041 - acc: 0.0311 - mean_squared_error: 0.0041 - mean_absolute_error: 0.0393 - mean_absolute_percentage_error: 4521379.5599 - cosine_proximity: -0.9887 - val_loss: 0.0040 - val_acc: 0.0311 - val_mean_squared_error: 0.0040 - val_mean_absolute_error: 0.0388 - val_mean_absolute_percentage_error: 4521262.3845 - val_cosine_proximity: -0.9887\n",
      "Epoch 9/20\n",
      "354/354 [==============================] - ETA: 0s - loss: 0.0015 - acc: 0.1000 - mean_squared_error: 0.0015 - mean_absolute_error: 0.0306 - mean_absolute_percentage_error: 0.0115 - cosine_proximity: -1.000 - ETA: 0s - loss: 0.0031 - acc: 0.0308 - mean_squared_error: 0.0031 - mean_absolute_error: 0.0375 - mean_absolute_percentage_error: 1538884.1672 - cosine_proximity: -0.996 - 0s 317us/step - loss: 0.0041 - acc: 0.0311 - mean_squared_error: 0.0041 - mean_absolute_error: 0.0394 - mean_absolute_percentage_error: 4520708.8254 - cosine_proximity: -0.9887 - val_loss: 0.0041 - val_acc: 0.0311 - val_mean_squared_error: 0.0041 - val_mean_absolute_error: 0.0389 - val_mean_absolute_percentage_error: 4520595.7179 - val_cosine_proximity: -0.9887\n",
      "Epoch 10/20\n",
      "354/354 [==============================] - ETA: 0s - loss: 0.0015 - acc: 0.1000 - mean_squared_error: 0.0015 - mean_absolute_error: 0.0315 - mean_absolute_percentage_error: 0.0118 - cosine_proximity: -1.000 - ETA: 0s - loss: 0.0031 - acc: 0.0263 - mean_squared_error: 0.0031 - mean_absolute_error: 0.0371 - mean_absolute_percentage_error: 2105504.6445 - cosine_proximity: -0.994 - 0s 383us/step - loss: 0.0041 - acc: 0.0311 - mean_squared_error: 0.0041 - mean_absolute_error: 0.0395 - mean_absolute_percentage_error: 4519987.0175 - cosine_proximity: -0.9887 - val_loss: 0.0041 - val_acc: 0.0311 - val_mean_squared_error: 0.0041 - val_mean_absolute_error: 0.0390 - val_mean_absolute_percentage_error: 4519883.4016 - val_cosine_proximity: -0.9887\n",
      "Epoch 11/20\n",
      "354/354 [==============================] - ETA: 0s - loss: 0.0016 - acc: 0.1000 - mean_squared_error: 0.0016 - mean_absolute_error: 0.0325 - mean_absolute_percentage_error: 0.0122 - cosine_proximity: -1.000 - ETA: 0s - loss: 0.0032 - acc: 0.0333 - mean_squared_error: 0.0032 - mean_absolute_error: 0.0383 - mean_absolute_percentage_error: 1666575.0135 - cosine_proximity: -0.995 - 0s 319us/step - loss: 0.0041 - acc: 0.0311 - mean_squared_error: 0.0041 - mean_absolute_error: 0.0396 - mean_absolute_percentage_error: 4519222.8368 - cosine_proximity: -0.9887 - val_loss: 0.0041 - val_acc: 0.0311 - val_mean_squared_error: 0.0041 - val_mean_absolute_error: 0.0392 - val_mean_absolute_percentage_error: 4519124.9835 - val_cosine_proximity: -0.9887\n"
     ]
    },
    {
     "name": "stdout",
     "output_type": "stream",
     "text": [
      "Epoch 12/20\n",
      "354/354 [==============================] - ETA: 0s - loss: 0.0016 - acc: 0.1000 - mean_squared_error: 0.0016 - mean_absolute_error: 0.0334 - mean_absolute_percentage_error: 0.0126 - cosine_proximity: -1.000 - ETA: 0s - loss: 0.0032 - acc: 0.0364 - mean_squared_error: 0.0032 - mean_absolute_error: 0.0385 - mean_absolute_percentage_error: 1817756.7408 - cosine_proximity: -0.995 - 0s 333us/step - loss: 0.0041 - acc: 0.0311 - mean_squared_error: 0.0041 - mean_absolute_error: 0.0398 - mean_absolute_percentage_error: 4518417.6391 - cosine_proximity: -0.9887 - val_loss: 0.0041 - val_acc: 0.0311 - val_mean_squared_error: 0.0041 - val_mean_absolute_error: 0.0394 - val_mean_absolute_percentage_error: 4518320.4638 - val_cosine_proximity: -0.9887\n",
      "Epoch 13/20\n",
      "354/354 [==============================] - ETA: 0s - loss: 0.0017 - acc: 0.1000 - mean_squared_error: 0.0017 - mean_absolute_error: 0.0342 - mean_absolute_percentage_error: 0.0129 - cosine_proximity: -1.000 - ETA: 0s - loss: 0.0033 - acc: 0.0286 - mean_squared_error: 0.0033 - mean_absolute_error: 0.0387 - mean_absolute_percentage_error: 1903959.4422 - cosine_proximity: -0.995 - 0s 369us/step - loss: 0.0041 - acc: 0.0311 - mean_squared_error: 0.0041 - mean_absolute_error: 0.0399 - mean_absolute_percentage_error: 4517573.6843 - cosine_proximity: -0.9887 - val_loss: 0.0041 - val_acc: 0.0311 - val_mean_squared_error: 0.0041 - val_mean_absolute_error: 0.0396 - val_mean_absolute_percentage_error: 4517465.7746 - val_cosine_proximity: -0.9887\n",
      "Epoch 14/20\n",
      "354/354 [==============================] - ETA: 0s - loss: 0.0017 - acc: 0.1000 - mean_squared_error: 0.0017 - mean_absolute_error: 0.0348 - mean_absolute_percentage_error: 0.0131 - cosine_proximity: -1.000 - ETA: 0s - loss: 0.0033 - acc: 0.0286 - mean_squared_error: 0.0033 - mean_absolute_error: 0.0388 - mean_absolute_percentage_error: 1903588.0136 - cosine_proximity: -0.995 - 0s 379us/step - loss: 0.0041 - acc: 0.0311 - mean_squared_error: 0.0041 - mean_absolute_error: 0.0399 - mean_absolute_percentage_error: 4516692.3284 - cosine_proximity: -0.9887 - val_loss: 0.0041 - val_acc: 0.0311 - val_mean_squared_error: 0.0041 - val_mean_absolute_error: 0.0397 - val_mean_absolute_percentage_error: 4516561.3679 - val_cosine_proximity: -0.9887\n",
      "Epoch 15/20\n",
      "354/354 [==============================] - ETA: 0s - loss: 0.0017 - acc: 0.1000 - mean_squared_error: 0.0017 - mean_absolute_error: 0.0351 - mean_absolute_percentage_error: 0.0132 - cosine_proximity: -1.000 - ETA: 0s - loss: 0.0031 - acc: 0.0348 - mean_squared_error: 0.0031 - mean_absolute_error: 0.0379 - mean_absolute_percentage_error: 1737706.6221 - cosine_proximity: -0.995 - 0s 327us/step - loss: 0.0041 - acc: 0.0311 - mean_squared_error: 0.0041 - mean_absolute_error: 0.0400 - mean_absolute_percentage_error: 4515773.5713 - cosine_proximity: -0.9887 - val_loss: 0.0041 - val_acc: 0.0311 - val_mean_squared_error: 0.0041 - val_mean_absolute_error: 0.0396 - val_mean_absolute_percentage_error: 4515604.5317 - val_cosine_proximity: -0.9887\n",
      "Epoch 16/20\n",
      "354/354 [==============================] - ETA: 0s - loss: 0.0017 - acc: 0.1000 - mean_squared_error: 0.0017 - mean_absolute_error: 0.0349 - mean_absolute_percentage_error: 0.0131 - cosine_proximity: -1.000 - ETA: 0s - loss: 0.0032 - acc: 0.0320 - mean_squared_error: 0.0032 - mean_absolute_error: 0.0385 - mean_absolute_percentage_error: 1598354.0937 - cosine_proximity: -0.996 - 0s 318us/step - loss: 0.0041 - acc: 0.0311 - mean_squared_error: 0.0041 - mean_absolute_error: 0.0399 - mean_absolute_percentage_error: 4514814.9272 - cosine_proximity: -0.9887 - val_loss: 0.0041 - val_acc: 0.0311 - val_mean_squared_error: 0.0041 - val_mean_absolute_error: 0.0395 - val_mean_absolute_percentage_error: 4514597.5260 - val_cosine_proximity: -0.9887\n",
      "Epoch 17/20\n",
      "354/354 [==============================] - ETA: 0s - loss: 0.0017 - acc: 0.1000 - mean_squared_error: 0.0017 - mean_absolute_error: 0.0344 - mean_absolute_percentage_error: 0.0129 - cosine_proximity: -1.000 - ETA: 0s - loss: 0.0032 - acc: 0.0320 - mean_squared_error: 0.0032 - mean_absolute_error: 0.0384 - mean_absolute_percentage_error: 1598005.4536 - cosine_proximity: -0.996 - 0s 344us/step - loss: 0.0041 - acc: 0.0311 - mean_squared_error: 0.0041 - mean_absolute_error: 0.0398 - mean_absolute_percentage_error: 4513814.5882 - cosine_proximity: -0.9887 - val_loss: 0.0041 - val_acc: 0.0311 - val_mean_squared_error: 0.0041 - val_mean_absolute_error: 0.0393 - val_mean_absolute_percentage_error: 4513543.9666 - val_cosine_proximity: -0.9887\n",
      "Epoch 18/20\n",
      "354/354 [==============================] - ETA: 0s - loss: 0.0016 - acc: 0.1000 - mean_squared_error: 0.0016 - mean_absolute_error: 0.0336 - mean_absolute_percentage_error: 0.0126 - cosine_proximity: -1.000 - ETA: 0s - loss: 0.0033 - acc: 0.0286 - mean_squared_error: 0.0033 - mean_absolute_error: 0.0385 - mean_absolute_percentage_error: 1901955.6326 - cosine_proximity: -0.995 - 0s 394us/step - loss: 0.0041 - acc: 0.0311 - mean_squared_error: 0.0041 - mean_absolute_error: 0.0397 - mean_absolute_percentage_error: 4512771.3113 - cosine_proximity: -0.9887 - val_loss: 0.0041 - val_acc: 0.0311 - val_mean_squared_error: 0.0041 - val_mean_absolute_error: 0.0391 - val_mean_absolute_percentage_error: 4512447.4694 - val_cosine_proximity: -0.9887\n",
      "Epoch 19/20\n",
      "354/354 [==============================] - ETA: 0s - loss: 0.0016 - acc: 0.1000 - mean_squared_error: 0.0016 - mean_absolute_error: 0.0328 - mean_absolute_percentage_error: 0.0123 - cosine_proximity: -1.000 - ETA: 0s - loss: 0.0033 - acc: 0.0286 - mean_squared_error: 0.0033 - mean_absolute_error: 0.0384 - mean_absolute_percentage_error: 1901505.5373 - cosine_proximity: -0.995 - 0s 333us/step - loss: 0.0041 - acc: 0.0311 - mean_squared_error: 0.0041 - mean_absolute_error: 0.0396 - mean_absolute_percentage_error: 4511683.9666 - cosine_proximity: -0.9887 - val_loss: 0.0041 - val_acc: 0.0311 - val_mean_squared_error: 0.0041 - val_mean_absolute_error: 0.0389 - val_mean_absolute_percentage_error: 4511308.9383 - val_cosine_proximity: -0.9887\n",
      "Epoch 20/20\n",
      "354/354 [==============================] - ETA: 0s - loss: 0.0016 - acc: 0.1000 - mean_squared_error: 0.0016 - mean_absolute_error: 0.0320 - mean_absolute_percentage_error: 0.0120 - cosine_proximity: -1.000 - ETA: 0s - loss: 0.0033 - acc: 0.0286 - mean_squared_error: 0.0033 - mean_absolute_error: 0.0384 - mean_absolute_percentage_error: 1901036.7754 - cosine_proximity: -0.995 - 0s 356us/step - loss: 0.0041 - acc: 0.0311 - mean_squared_error: 0.0041 - mean_absolute_error: 0.0395 - mean_absolute_percentage_error: 4510551.9892 - cosine_proximity: -0.9887 - val_loss: 0.0040 - val_acc: 0.0311 - val_mean_squared_error: 0.0040 - val_mean_absolute_error: 0.0388 - val_mean_absolute_percentage_error: 4510132.4410 - val_cosine_proximity: -0.9887\n"
     ]
    }
   ],
   "source": [
    "history = estimator.fit(\n",
    "    x_train,\n",
    "    y_train,\n",
    "    validation_data=(\n",
    "        x_train,\n",
    "        y_train),\n",
    "    epochs=use_epochs,\n",
    "    batch_size=use_batch_size,\n",
    "    shuffle=use_shuffle,\n",
    "    verbose=fit_verbose)"
   ]
  },
  {
   "cell_type": "markdown",
   "metadata": {},
   "source": [
    "## Determine Error (MSE + MAE + MAPE + CP)"
   ]
  },
  {
   "cell_type": "code",
   "execution_count": 12,
   "metadata": {},
   "outputs": [
    {
     "name": "stdout",
     "output_type": "stream",
     "text": [
      "MSE: 54972.0 MAE: 229.66 MAPE: 1336357.76 CP: -0.99\n"
     ]
    }
   ],
   "source": [
    "mse_err = None\n",
    "mae_err = None\n",
    "mape_err = None\n",
    "cp_err = None\n",
    "if len(history.history['mean_squared_error']) > 0:\n",
    "    mse_err = ae_consts.to_f(\n",
    "        history.history['mean_squared_error'][0])\n",
    "if len(history.history['mean_absolute_error']) > 0:\n",
    "    mae_err = ae_consts.to_f(\n",
    "        history.history['mean_absolute_error'][0])\n",
    "if len(history.history['mean_absolute_percentage_error']) > 0:\n",
    "    mape_err = ae_consts.to_f(\n",
    "        history.history['mean_absolute_percentage_error'][0])\n",
    "if len(history.history['cosine_proximity']) > 0:\n",
    "    cp_err = ae_consts.to_f(\n",
    "        history.history['cosine_proximity'][0])\n",
    "\n",
    "error_str = (\n",
    "    f'MSE: {mse_err} '\n",
    "    f'MAE: {mae_err} '\n",
    "    f'MAPE: {mape_err} '\n",
    "    f'CP: {cp_err}')\n",
    "\n",
    "print(error_str)"
   ]
  },
  {
   "cell_type": "markdown",
   "metadata": {},
   "source": [
    "## Build Predictions"
   ]
  },
  {
   "cell_type": "code",
   "execution_count": 13,
   "metadata": {},
   "outputs": [],
   "source": [
    "# on production use newly fetched pricing data\n",
    "# not the training data\n",
    "predict_records = df[train_features]"
   ]
  },
  {
   "cell_type": "markdown",
   "metadata": {},
   "source": [
    "## Run Predictions"
   ]
  },
  {
   "cell_type": "code",
   "execution_count": 14,
   "metadata": {},
   "outputs": [
    {
     "name": "stdout",
     "output_type": "stream",
     "text": [
      "making predictions: 395\n",
      "395/395 [==============================] - ETA:  - 0s 114us/step\n",
      "historical close with predicted close:                  minute   close  predicted_close\n",
      "5   2019-01-25 09:30:00  265.53           265.58\n",
      "6   2019-01-25 09:31:00  265.36           265.49\n",
      "7   2019-01-25 09:32:00  265.32           265.38\n",
      "8   2019-01-25 09:33:00  265.45           265.42\n",
      "9   2019-01-25 09:34:00  265.32           265.31\n",
      "10  2019-01-25 09:35:00  265.26           265.23\n",
      "11  2019-01-25 09:36:00  265.35           265.29\n",
      "12  2019-01-25 09:37:00  265.22           265.30\n",
      "13  2019-01-25 09:38:00  265.22           265.24\n",
      "14  2019-01-25 09:39:00  265.23           265.25\n",
      "15  2019-01-25 09:40:00  265.39           265.32\n",
      "16  2019-01-25 09:41:00  265.42           265.42\n",
      "17  2019-01-25 09:42:00  265.22           265.23\n",
      "18  2019-01-25 09:43:00  265.34           265.25\n",
      "19  2019-01-25 09:44:00  265.27           265.33\n",
      "20  2019-01-25 09:45:00  265.28           265.33\n",
      "21  2019-01-25 09:46:00  265.32           265.30\n",
      "22  2019-01-25 09:47:00  265.44           265.38\n",
      "23  2019-01-25 09:48:00  265.45           265.51\n",
      "24  2019-01-25 09:49:00  265.42           265.46\n",
      "25  2019-01-25 09:50:00  265.62           265.58\n",
      "26  2019-01-25 09:51:00  265.62           265.62\n",
      "27  2019-01-25 09:52:00  265.73           265.66\n",
      "28  2019-01-25 09:53:00  265.69           265.75\n",
      "29  2019-01-25 09:54:00  265.55           265.64\n",
      "30  2019-01-25 09:55:00  265.43           265.52\n",
      "31  2019-01-25 09:56:00  265.42           265.44\n",
      "32  2019-01-25 09:57:00  265.53           265.47\n",
      "33  2019-01-25 09:58:00  265.58           265.58\n",
      "34  2019-01-25 09:59:00  265.70           265.63\n",
      "..                  ...     ...              ...\n",
      "365 2019-01-25 15:30:00  265.46           265.57\n",
      "366 2019-01-25 15:31:00  265.40           265.39\n",
      "367 2019-01-25 15:32:00  265.38           265.40\n",
      "368 2019-01-25 15:33:00  265.43           265.39\n",
      "369 2019-01-25 15:34:00  265.44           265.44\n",
      "370 2019-01-25 15:35:00  265.36           265.40\n",
      "371 2019-01-25 15:36:00  265.56           265.44\n",
      "372 2019-01-25 15:37:00  265.60           265.58\n",
      "373 2019-01-25 15:38:00  265.56           265.59\n",
      "374 2019-01-25 15:39:00  265.67           265.62\n",
      "375 2019-01-25 15:40:00  265.71           265.65\n",
      "376 2019-01-25 15:41:00  265.75           265.72\n",
      "377 2019-01-25 15:42:00  265.76           265.72\n",
      "378 2019-01-25 15:43:00  265.79           265.76\n",
      "379 2019-01-25 15:44:00  265.77           265.83\n",
      "380 2019-01-25 15:45:00  265.86           265.86\n",
      "381 2019-01-25 15:46:00  265.80           265.84\n",
      "382 2019-01-25 15:47:00  265.82           265.81\n",
      "383 2019-01-25 15:48:00  265.81           265.81\n",
      "384 2019-01-25 15:49:00  265.83           265.81\n",
      "385 2019-01-25 15:50:00  265.77           265.81\n",
      "386 2019-01-25 15:51:00  265.65           265.75\n",
      "387 2019-01-25 15:52:00  265.69           265.66\n",
      "388 2019-01-25 15:53:00  265.56           265.64\n",
      "389 2019-01-25 15:54:00  265.58           265.58\n",
      "390 2019-01-25 15:55:00  265.72           265.67\n",
      "391 2019-01-25 15:56:00  265.76           265.73\n",
      "392 2019-01-25 15:57:00  265.77           265.76\n",
      "393 2019-01-25 15:58:00  265.70           265.75\n",
      "394 2019-01-25 15:59:00  265.80           265.71\n",
      "\n",
      "[389 rows x 3 columns]\n",
      "Dates: 2019-01-25 09:30:00 to 2019-01-25 15:59:00\n",
      "Columns: ['minute', 'close', 'predicted_close', 'error']\n",
      "Average historical close vs predicted close error: -0.01\n"
     ]
    }
   ],
   "source": [
    "print(\n",
    "    f'making predictions: {len(predict_records)}')\n",
    "\n",
    "predictions = estimator.model.predict(\n",
    "    predict_records,\n",
    "    verbose=True)\n",
    "\n",
    "np.set_printoptions(threshold=np.nan)\n",
    "indexes = tf.argmax(predictions, axis=1)\n",
    "data = {}\n",
    "data['indexes'] = indexes\n",
    "price_predictions = [ae_consts.to_f(x[0]) for x in predictions]\n",
    "\n",
    "df['predicted_close'] = price_predictions\n",
    "df['error'] = (\n",
    "    df['close'] -\n",
    "    df['predicted_close'])\n",
    "average_error = ae_consts.to_f(\n",
    "    df['error'].sum() / len(df.index))\n",
    "\n",
    "output_features = [\n",
    "    'minute',\n",
    "    'close',\n",
    "    'predicted_close',\n",
    "    'error'\n",
    "]\n",
    "\n",
    "df_filter = (df['close'] >= 0.1)\n",
    "date_str = (\n",
    "    f'Dates: {df[df_filter][\"minute\"].iloc[0]} '\n",
    "    f'to '\n",
    "    f'{df[df_filter][\"minute\"].iloc[-1]}')\n",
    "\n",
    "print(\n",
    "    f'historical close with predicted close: '\n",
    "    f'{df[df_filter][[\"minute\", \"close\", \"predicted_close\"]]}')\n",
    "print(\n",
    "    date_str)\n",
    "print(\n",
    "    f'Columns: {output_features}')\n",
    "print(\n",
    "    f'Average historical close '\n",
    "    f'vs predicted close error: '\n",
    "    f'{average_error}')"
   ]
  },
  {
   "cell_type": "markdown",
   "metadata": {},
   "source": [
    "## Plot Historical Close vs DNN's Predicted Close"
   ]
  },
  {
   "cell_type": "code",
   "execution_count": 15,
   "metadata": {},
   "outputs": [
    {
     "name": "stdout",
     "output_type": "stream",
     "text": [
      "plotting historical close vs predicted close\n"
     ]
    },
    {
     "data": {
      "image/png": "[encoded data removed]",
      "text/plain": [
       "<Figure size 576x576 with 2 Axes>"
      ]
     },
     "metadata": {},
     "output_type": "display_data"
    }
   ],
   "source": [
    "print(\n",
    "    f'plotting historical close vs predicted close')\n",
    "\n",
    "plot_res = plot_trading_history.plot_trading_history(\n",
    "    title=(\n",
    "        f'{ticker} - Historical Close vs Predicted Close\\n'\n",
    "        f'Error Metrics: {error_str}\\n'\n",
    "        f'{date_str}'),\n",
    "    df=copy.deepcopy(df),\n",
    "    red='close',\n",
    "    blue='predicted_close',\n",
    "    green=None,\n",
    "    orange=None,\n",
    "    date_col='minute',\n",
    "    date_format='%d %H:%M:%S\\n%b',\n",
    "    xlabel='minute',\n",
    "    ylabel='Historical Close vs Predicted Close',\n",
    "    df_filter=df_filter,\n",
    "    width=8.0,\n",
    "    height=8.0,\n",
    "    show_plot=True,\n",
    "    dropna_for_all=False)"
   ]
  }
 ],
 "metadata": {
  "kernelspec": {
   "display_name": "Python 3",
   "language": "python",
   "name": "python3"
  },
  "language_info": {
   "codemirror_mode": {
    "name": "ipython",
    "version": 3
   },
   "file_extension": ".py",
   "mimetype": "text/x-python",
   "name": "python",
   "nbconvert_exporter": "python",
   "pygments_lexer": "ipython3",
   "version": "3.6.7"
  }
 },
 "nbformat": 4,
 "nbformat_minor": 2
}
